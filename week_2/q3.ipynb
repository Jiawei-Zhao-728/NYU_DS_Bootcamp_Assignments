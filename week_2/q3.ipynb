{
  "cells": [
    {
      "cell_type": "markdown",
      "metadata": {},
      "source": [
        "# Question 3:\n",
        "\n",
        "Tasks:\n",
        "- Create a DataFrame with random integers (10-39) in a 4-column format\n",
        "- Find rows where the sum of all values in that row is greater than 100\n"
      ]
    },
    {
      "cell_type": "code",
      "execution_count": 1,
      "metadata": {},
      "outputs": [
        {
          "name": "stdout",
          "output_type": "stream",
          "text": [
            "Original DataFrame:\n",
            "    Col1  Col2  Col3  Col4\n",
            "0     16    29    38    24\n",
            "1     20    17    38    30\n",
            "2     16    35    28    32\n",
            "3     20    20    33    30\n",
            "4     13    17    33    12\n",
            "5     31    30    11    33\n",
            "6     21    39    15    11\n",
            "7     37    30    10    21\n",
            "8     35    31    38    21\n",
            "9     34    26    36    36\n",
            "10    19    37    37    25\n",
            "11    24    39    39    24\n",
            "12    39    28    21    32\n",
            "13    29    34    12    14\n",
            "14    28    16    30    18\n",
            "15    16    27    13    34\n",
            "16    37    23    27    35\n",
            "17    18    35    30    11\n",
            "18    29    37    24    37\n",
            "19    16    21    38    17\n",
            "\n",
            "Rows where sum > 100:\n",
            "    Col1  Col2  Col3  Col4  Row_Sum\n",
            "0     16    29    38    24      107\n",
            "1     20    17    38    30      105\n",
            "2     16    35    28    32      111\n",
            "3     20    20    33    30      103\n",
            "5     31    30    11    33      105\n",
            "8     35    31    38    21      125\n",
            "9     34    26    36    36      132\n",
            "10    19    37    37    25      118\n",
            "11    24    39    39    24      126\n",
            "12    39    28    21    32      120\n",
            "16    37    23    27    35      122\n",
            "18    29    37    24    37      127\n"
          ]
        }
      ],
      "source": [
        "import pandas as pd\n",
        "import numpy as np\n",
        "\n",
        "# Create a DataFrame with random integers (10-39) in a 4-column format\n",
        "# Let's create 20 rows as an example\n",
        "np.random.seed(42)  # For reproducibility\n",
        "df = pd.DataFrame(np.random.randint(10, 40, size=(20, 4)), \n",
        "                  columns=['Col1', 'Col2', 'Col3', 'Col4'])\n",
        "\n",
        "print(\"Original DataFrame:\")\n",
        "print(df)\n",
        "print()\n",
        "\n",
        "# Calculate row sums\n",
        "df['Row_Sum'] = df.sum(axis=1)\n",
        "\n",
        "# Find rows where the sum is greater than 100\n",
        "result = df[df['Row_Sum'] > 100]\n",
        "\n",
        "print(\"Rows where sum > 100:\")\n",
        "print(result)\n"
      ]
    }
  ],
  "metadata": {
    "kernelspec": {
      "display_name": "titanic",
      "language": "python",
      "name": "python3"
    },
    "language_info": {
      "codemirror_mode": {
        "name": "ipython",
        "version": 3
      },
      "file_extension": ".py",
      "mimetype": "text/x-python",
      "name": "python",
      "nbconvert_exporter": "python",
      "pygments_lexer": "ipython3",
      "version": "3.10.16"
    }
  },
  "nbformat": 4,
  "nbformat_minor": 2
}
