{
  "cells": [
    {
      "cell_type": "markdown",
      "metadata": {},
      "source": [
        "# Question 1:\n",
        "\n",
        "Load the dataset from: https://raw.githubusercontent.com/selva86/datasets/master/Cars93_miss.csv\n",
        "\n",
        "Tasks:\n",
        "- Filter to get only 'Manufacturer', 'Model', and 'Type' columns\n",
        "- Select every 20th row starting from the 1st row (row 0)\n"
      ]
    },
    {
      "cell_type": "code",
      "execution_count": 1,
      "metadata": {},
      "outputs": [
        {
          "name": "stdout",
          "output_type": "stream",
          "text": [
            "   Manufacturer    Model     Type\n",
            "0         Acura  Integra    Small\n",
            "20     Chrysler  LeBaron  Compact\n",
            "40        Honda  Prelude   Sporty\n",
            "60      Mercury   Cougar  Midsize\n",
            "80       Subaru   Loyale    Small\n"
          ]
        }
      ],
      "source": [
        "import pandas as pd\n",
        "\n",
        "# Load the dataset\n",
        "url = 'https://raw.githubusercontent.com/selva86/datasets/master/Cars93_miss.csv'\n",
        "df = pd.read_csv(url)\n",
        "\n",
        "# Filter to get only specific columns and select every 20th row starting from row 0\n",
        "result = df[['Manufacturer', 'Model', 'Type']][::20]\n",
        "\n",
        "print(result)\n"
      ]
    }
  ],
  "metadata": {
    "kernelspec": {
      "display_name": "titanic",
      "language": "python",
      "name": "python3"
    },
    "language_info": {
      "codemirror_mode": {
        "name": "ipython",
        "version": 3
      },
      "file_extension": ".py",
      "mimetype": "text/x-python",
      "name": "python",
      "nbconvert_exporter": "python",
      "pygments_lexer": "ipython3",
      "version": "3.10.16"
    }
  },
  "nbformat": 4,
  "nbformat_minor": 2
}
