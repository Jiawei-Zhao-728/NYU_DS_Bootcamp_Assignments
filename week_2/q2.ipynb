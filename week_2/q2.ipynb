{
  "cells": [
    {
      "cell_type": "markdown",
      "metadata": {},
      "source": [
        "# Question 2:\n",
        "\n",
        "Load the dataset from: https://raw.githubusercontent.com/selva86/datasets/master/Cars93_miss.csv\n",
        "\n",
        "Tasks:\n",
        "- Find missing values in 'Min.Price' and 'Max.Price' columns\n",
        "- Replace missing values with the mean of their respective columns\n"
      ]
    },
    {
      "cell_type": "code",
      "execution_count": 1,
      "metadata": {},
      "outputs": [
        {
          "name": "stdout",
          "output_type": "stream",
          "text": [
            "Missing values before replacement:\n",
            "Min.Price: 7\n",
            "Max.Price: 5\n",
            "\n",
            "Missing values after replacement:\n",
            "Min.Price: 0\n",
            "Max.Price: 0\n",
            "\n",
            "First 10 rows with Min.Price and Max.Price:\n",
            "  Manufacturer       Model  Min.Price  Max.Price\n",
            "0        Acura     Integra  12.900000  18.800000\n",
            "1          NaN      Legend  29.200000  38.700000\n",
            "2         Audi          90  25.900000  32.300000\n",
            "3         Audi         100  17.118605  44.600000\n",
            "4          BMW        535i  17.118605  21.459091\n",
            "5        Buick     Century  14.200000  17.300000\n",
            "6        Buick     LeSabre  19.900000  21.459091\n",
            "7        Buick  Roadmaster  22.600000  24.900000\n",
            "8        Buick     Riviera  26.300000  26.300000\n",
            "9     Cadillac     DeVille  33.000000  36.300000\n"
          ]
        }
      ],
      "source": [
        "import pandas as pd\n",
        "\n",
        "# Load the dataset\n",
        "url = 'https://raw.githubusercontent.com/selva86/datasets/master/Cars93_miss.csv'\n",
        "df = pd.read_csv(url)\n",
        "\n",
        "# Check for missing values in Min.Price and Max.Price\n",
        "print(\"Missing values before replacement:\")\n",
        "print(f\"Min.Price: {df['Min.Price'].isna().sum()}\")\n",
        "print(f\"Max.Price: {df['Max.Price'].isna().sum()}\")\n",
        "print()\n",
        "\n",
        "# Replace missing values with the mean of their respective columns\n",
        "df['Min.Price'] = df['Min.Price'].fillna(df['Min.Price'].mean())\n",
        "df['Max.Price'] = df['Max.Price'].fillna(df['Max.Price'].mean())\n",
        "\n",
        "# Verify missing values have been replaced\n",
        "print(\"Missing values after replacement:\")\n",
        "print(f\"Min.Price: {df['Min.Price'].isna().sum()}\")\n",
        "print(f\"Max.Price: {df['Max.Price'].isna().sum()}\")\n",
        "print()\n",
        "\n",
        "# Display the first few rows to see the result\n",
        "print(\"First 10 rows with Min.Price and Max.Price:\")\n",
        "print(df[['Manufacturer', 'Model', 'Min.Price', 'Max.Price']].head(10))\n"
      ]
    }
  ],
  "metadata": {
    "kernelspec": {
      "display_name": "titanic",
      "language": "python",
      "name": "python3"
    },
    "language_info": {
      "codemirror_mode": {
        "name": "ipython",
        "version": 3
      },
      "file_extension": ".py",
      "mimetype": "text/x-python",
      "name": "python",
      "nbconvert_exporter": "python",
      "pygments_lexer": "ipython3",
      "version": "3.10.16"
    }
  },
  "nbformat": 4,
  "nbformat_minor": 2
}
